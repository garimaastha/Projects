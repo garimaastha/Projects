{
  "nbformat": 4,
  "nbformat_minor": 0,
  "metadata": {
    "colab": {
      "provenance": []
    },
    "kernelspec": {
      "name": "python3",
      "display_name": "Python 3"
    },
    "language_info": {
      "name": "python"
    }
  },
  "cells": [
    {
      "cell_type": "markdown",
      "source": [
        "**Assignment Title: Lab Assignment 3 - Foundations of Deep Learning**\n",
        "\n",
        "**Author name: Garima Astha**\n",
        "\n",
        "**ASU ID: 1234333687 (gastha)**\n",
        "\n",
        "**file creation date: 16 Feb 2025**\n",
        "\n",
        "**Objectives**\n",
        "\n",
        "Exercise 1 (Gradient Descent):This exercise has 3 objectives:\n",
        "\n",
        "•    Understand and implement the gradient descent algorithm for a simple lost function\n",
        "\n",
        "•    Understand the idea of convergence\n",
        "\n",
        "•    Experiment with different learning rates and see what how it effects convergence\n",
        "\n",
        "Exercise 2 (Single Neuron):This exercise has 3 objectives:\n",
        "\n",
        "•    Apply deep learning thinking in modeling a single neuron to build logistic regression and linear regression models.\n",
        "\n",
        "•    Apply the idea of vectorization to efficiently train your models.\n",
        "\n",
        "•    Implement gradient descent from scratch (using multiple iterations of the forward pass, backward propagation, and gradient descent steps) to minimize the loss functions and determine model parameters."
      ],
      "metadata": {
        "id": "wl0g5yZ9_g4E"
      }
    },
    {
      "cell_type": "markdown",
      "source": [
        "#Exercise 1\n",
        "\n",
        "First, complete coding Steps 1.1 through 1.5 in this cell.\n",
        "Then, run this cell for each of the four scenarios below, and log your responses for each scenario run in the next cell (Step 1.6)\n",
        "\n",
        "alpha=0.08; niterations = 25; w1 = 60 # Scenario 1\n",
        "\n",
        "alpha=0.05; niterations = 25; w1 = 60 # Scenario 2\n",
        "\n",
        "alpha=0.15; niterations = 25; w1 = 60 # Scenario 3\n",
        "\n",
        "alpha=0.19; niterations = 25; w1 = 60 # Scenario 4\n"
      ],
      "metadata": {
        "id": "HfqKMpcp_k1J"
      }
    },
    {
      "cell_type": "code",
      "source": [
        "# DO NOT edit this cell!\n",
        "# You must use this lost function and its derivative as-is\n",
        "\n",
        "# lost at particular value of w1\n",
        "def calc_J(w1):\n",
        "    return (5.5*w1*w1 - 1463*w1 + 100812.5)\n",
        "\n",
        "# slope at particular value of w1\n",
        "def calc_dJ_dw1(w1):\n",
        "    return (11*w1 - 1463)"
      ],
      "metadata": {
        "id": "MO3FilZsANNs"
      },
      "execution_count": null,
      "outputs": []
    },
    {
      "cell_type": "markdown",
      "source": [
        "#Scenario 1\n",
        "\n",
        "alpha=0.08; niterations = 25; w1 = 60 # Scenario 1"
      ],
      "metadata": {
        "id": "2v23VoBi_pPc"
      }
    },
    {
      "cell_type": "code",
      "source": [
        "# Given parameters for Scenario 1\n",
        "alpha = 0.08       # Learning rate\n",
        "niterations = 25   # Number of iterations\n",
        "w1 = 60            # Initial value of w1\n",
        "\n",
        "# Step 1.1: Calculate current value of J at current value of w1\n",
        "J = calc_J(w1)\n",
        "\n",
        "# Step 1.2: Print w1 (rounded to 2 decimal places) and J (rounded to 2 decimal places)\n",
        "print(f\"Initial w1: {w1:.2f}, Initial J: {J:.2f}\")\n",
        "\n",
        "# Gradient descent loop for niterations\n",
        "for i in range(niterations):\n",
        "\n",
        "    # Step 1.3: Calculate new value of w1 (gradient update)\n",
        "    gradient = calc_dJ_dw1(w1)  # Calculate the gradient (slope)\n",
        "    w1 = w1 - alpha * gradient   # Update w1 using gradient descent\n",
        "\n",
        "    # Step 1.4: Calculate new value of J at new w1\n",
        "    J = calc_J(w1)\n",
        "\n",
        "    # Step 1.5: Print w1 (rounded to 2 decimal places) and J (rounded to 2 decimal places)\n",
        "    print(f\"Iteration {i+1}: w1 = {w1:.2f}, J = {J:.2f}\")"
      ],
      "metadata": {
        "colab": {
          "base_uri": "https://localhost:8080/"
        },
        "id": "L9sjWeG0AYXQ",
        "outputId": "8fb64fd9-60f8-4f2f-f750-bd3c14b3bc19"
      },
      "execution_count": null,
      "outputs": [
        {
          "output_type": "stream",
          "name": "stdout",
          "text": [
            "Initial w1: 60.00, Initial J: 32832.50\n",
            "Iteration 1: w1 = 124.24, J = 3945.06\n",
            "Iteration 2: w1 = 131.95, J = 3529.08\n",
            "Iteration 3: w1 = 132.87, J = 3523.09\n",
            "Iteration 4: w1 = 132.98, J = 3523.00\n",
            "Iteration 5: w1 = 133.00, J = 3523.00\n",
            "Iteration 6: w1 = 133.00, J = 3523.00\n",
            "Iteration 7: w1 = 133.00, J = 3523.00\n",
            "Iteration 8: w1 = 133.00, J = 3523.00\n",
            "Iteration 9: w1 = 133.00, J = 3523.00\n",
            "Iteration 10: w1 = 133.00, J = 3523.00\n",
            "Iteration 11: w1 = 133.00, J = 3523.00\n",
            "Iteration 12: w1 = 133.00, J = 3523.00\n",
            "Iteration 13: w1 = 133.00, J = 3523.00\n",
            "Iteration 14: w1 = 133.00, J = 3523.00\n",
            "Iteration 15: w1 = 133.00, J = 3523.00\n",
            "Iteration 16: w1 = 133.00, J = 3523.00\n",
            "Iteration 17: w1 = 133.00, J = 3523.00\n",
            "Iteration 18: w1 = 133.00, J = 3523.00\n",
            "Iteration 19: w1 = 133.00, J = 3523.00\n",
            "Iteration 20: w1 = 133.00, J = 3523.00\n",
            "Iteration 21: w1 = 133.00, J = 3523.00\n",
            "Iteration 22: w1 = 133.00, J = 3523.00\n",
            "Iteration 23: w1 = 133.00, J = 3523.00\n",
            "Iteration 24: w1 = 133.00, J = 3523.00\n",
            "Iteration 25: w1 = 133.00, J = 3523.00\n"
          ]
        }
      ]
    },
    {
      "cell_type": "markdown",
      "source": [
        "#Scenario 1\n",
        "1.Did the cost steadily decrease as training progressed?\n",
        "\n",
        "The cost (denoted by the value of J) is decreasing with each iteration and becomes constant (J = 3523.00) in iteration 4.\n",
        "\n",
        "2.Did the gradient descent algorithm converge?\n",
        "\n",
        "The gradient descent algorithm has converged. In iteration 5, the value of w1 and the value of J have become constant.\n",
        "\n",
        "3.What is the minimum loss?\n",
        "\n",
        "The minimum loss is at iteration 5 which is J = 3523.00\n",
        "\n",
        "4.What is the optimal value of ( w1 )?\n",
        "\n",
        "The optimal value of w1 is 133.00 which is achieved in iteration 5.\n",
        "\n",
        "5.In how many iterations did gradient descent converge (at which row # in the output)?\n",
        "\n",
        "Gradient descent converged after iteration 5 as the values of w1 and J have not changed after that."
      ],
      "metadata": {
        "id": "8RHAf1jlBFn2"
      }
    },
    {
      "cell_type": "markdown",
      "source": [
        "#Scenario 2\n",
        "\n",
        "alpha=0.05; niterations = 25; w1 = 60 # Scenario 1"
      ],
      "metadata": {
        "id": "v9mFiI2U_qao"
      }
    },
    {
      "cell_type": "code",
      "source": [
        "# Given parameters for Scenario 2\n",
        "alpha = 0.05       # Learning rate\n",
        "niterations = 25   # Number of iterations\n",
        "w1 = 60            # Initial value of w1\n",
        "\n",
        "# Step 1.1: Calculate current value of J at current value of w1\n",
        "J = calc_J(w1)\n",
        "\n",
        "# Step 1.2: Print w1 (rounded to 2 decimal places) and J (rounded to 2 decimal places)\n",
        "print(f\"Initial w1: {w1:.2f}, Initial J: {J:.2f}\")\n",
        "\n",
        "# Gradient descent loop for niterations\n",
        "for i in range(niterations):\n",
        "\n",
        "    # Step 1.3: Calculate new value of w1 (gradient update)\n",
        "    gradient = calc_dJ_dw1(w1)  # Calculate the gradient (slope)\n",
        "    w1 = w1 - alpha * gradient   # Update w1 using gradient descent\n",
        "\n",
        "    # Step 1.4: Calculate new value of J at new w1\n",
        "    J = calc_J(w1)\n",
        "\n",
        "    # Step 1.5: Print w1 (rounded to 2 decimal places) and J (rounded to 2 decimal places)\n",
        "    print(f\"Iteration {i+1}: w1 = {w1:.2f}, J = {J:.2f}\")"
      ],
      "metadata": {
        "colab": {
          "base_uri": "https://localhost:8080/"
        },
        "id": "pOItjauNAbp7",
        "outputId": "03158c36-b2ee-4a9b-bc57-3c6a0fbdeab9"
      },
      "execution_count": null,
      "outputs": [
        {
          "output_type": "stream",
          "name": "stdout",
          "text": [
            "Initial w1: 60.00, Initial J: 32832.50\n",
            "Iteration 1: w1 = 100.15, J = 9458.17\n",
            "Iteration 2: w1 = 118.22, J = 4724.87\n",
            "Iteration 3: w1 = 126.35, J = 3766.38\n",
            "Iteration 4: w1 = 130.01, J = 3572.28\n",
            "Iteration 5: w1 = 131.65, J = 3532.98\n",
            "Iteration 6: w1 = 132.39, J = 3525.02\n",
            "Iteration 7: w1 = 132.73, J = 3523.41\n",
            "Iteration 8: w1 = 132.88, J = 3523.08\n",
            "Iteration 9: w1 = 132.94, J = 3523.02\n",
            "Iteration 10: w1 = 132.98, J = 3523.00\n",
            "Iteration 11: w1 = 132.99, J = 3523.00\n",
            "Iteration 12: w1 = 132.99, J = 3523.00\n",
            "Iteration 13: w1 = 133.00, J = 3523.00\n",
            "Iteration 14: w1 = 133.00, J = 3523.00\n",
            "Iteration 15: w1 = 133.00, J = 3523.00\n",
            "Iteration 16: w1 = 133.00, J = 3523.00\n",
            "Iteration 17: w1 = 133.00, J = 3523.00\n",
            "Iteration 18: w1 = 133.00, J = 3523.00\n",
            "Iteration 19: w1 = 133.00, J = 3523.00\n",
            "Iteration 20: w1 = 133.00, J = 3523.00\n",
            "Iteration 21: w1 = 133.00, J = 3523.00\n",
            "Iteration 22: w1 = 133.00, J = 3523.00\n",
            "Iteration 23: w1 = 133.00, J = 3523.00\n",
            "Iteration 24: w1 = 133.00, J = 3523.00\n",
            "Iteration 25: w1 = 133.00, J = 3523.00\n"
          ]
        }
      ]
    },
    {
      "cell_type": "markdown",
      "source": [
        "#Scenario 2\n",
        "1.Did the cost steadily decrease as training progressed?\n",
        "\n",
        "The cost (denoted by the value of J) is decreasing with each iteration and becomes constant (J = 3523.00) in iteration 10.\n",
        "\n",
        "2.Did the gradient descent algorithm converge?\n",
        "\n",
        "The gradient descent algorithm has converged. In iteration 13, the value of w1 and the value of J have become constant.\n",
        "\n",
        "3.What is the minimum loss?\n",
        "\n",
        "The minimum loss is at iteration 13 which is J = 3523.00\n",
        "\n",
        "4.What is the optimal value of ( w1 )?\n",
        "\n",
        "The optimal value of w1 is 133.00 which is achieved in iteration 13.\n",
        "\n",
        "5.In how many iterations did gradient descent converge (at which row # in the output)?\n",
        "\n",
        "Gradient descent converged after iteration 13 as the values of w1 and J have not changed after that."
      ],
      "metadata": {
        "id": "bluNyEp6CZy8"
      }
    },
    {
      "cell_type": "markdown",
      "source": [
        "#Scenario 3\n",
        "\n",
        "alpha=0.15; niterations = 25; w1 = 60 # Scenario 1"
      ],
      "metadata": {
        "id": "m5JRIweS_rhR"
      }
    },
    {
      "cell_type": "code",
      "source": [
        "# Given parameters for Scenario 3\n",
        "alpha = 0.15       # Learning rate\n",
        "niterations = 25   # Number of iterations\n",
        "w1 = 60            # Initial value of w1\n",
        "\n",
        "# Step 1.1: Calculate current value of J at current value of w1\n",
        "J = calc_J(w1)\n",
        "\n",
        "# Step 1.2: Print w1 (rounded to 2 decimal places) and J (rounded to 2 decimal places)\n",
        "print(f\"Initial w1: {w1:.2f}, Initial J: {J:.2f}\")\n",
        "\n",
        "# Gradient descent loop for niterations\n",
        "for i in range(niterations):\n",
        "\n",
        "    # Step 1.3: Calculate new value of w1 (gradient update)\n",
        "    gradient = calc_dJ_dw1(w1)  # Calculate the gradient (slope)\n",
        "    w1 = w1 - alpha * gradient   # Update w1 using gradient descent\n",
        "\n",
        "    # Step 1.4: Calculate new value of J at new w1\n",
        "    J = calc_J(w1)\n",
        "\n",
        "    # Step 1.5: Print w1 (rounded to 2 decimal places) and J (rounded to 2 decimal places)\n",
        "    print(f\"Iteration {i+1}: w1 = {w1:.2f}, J = {J:.2f}\")"
      ],
      "metadata": {
        "colab": {
          "base_uri": "https://localhost:8080/"
        },
        "id": "XdvmUMoIAiJT",
        "outputId": "018951d3-5a64-44d6-c594-8ae8c03022f0"
      },
      "execution_count": null,
      "outputs": [
        {
          "output_type": "stream",
          "name": "stdout",
          "text": [
            "Initial w1: 60.00, Initial J: 32832.50\n",
            "Iteration 1: w1 = 180.45, J = 15906.26\n",
            "Iteration 2: w1 = 102.16, J = 8754.93\n",
            "Iteration 3: w1 = 153.05, J = 5733.49\n",
            "Iteration 4: w1 = 119.97, J = 4456.93\n",
            "Iteration 5: w1 = 141.47, J = 3917.59\n",
            "Iteration 6: w1 = 127.49, J = 3689.71\n",
            "Iteration 7: w1 = 136.58, J = 3593.44\n",
            "Iteration 8: w1 = 130.67, J = 3552.76\n",
            "Iteration 9: w1 = 134.51, J = 3535.57\n",
            "Iteration 10: w1 = 132.02, J = 3528.31\n",
            "Iteration 11: w1 = 133.64, J = 3525.24\n",
            "Iteration 12: w1 = 132.58, J = 3523.95\n",
            "Iteration 13: w1 = 133.27, J = 3523.40\n",
            "Iteration 14: w1 = 132.82, J = 3523.17\n",
            "Iteration 15: w1 = 133.11, J = 3523.07\n",
            "Iteration 16: w1 = 132.93, J = 3523.03\n",
            "Iteration 17: w1 = 133.05, J = 3523.01\n",
            "Iteration 18: w1 = 132.97, J = 3523.01\n",
            "Iteration 19: w1 = 133.02, J = 3523.00\n",
            "Iteration 20: w1 = 132.99, J = 3523.00\n",
            "Iteration 21: w1 = 133.01, J = 3523.00\n",
            "Iteration 22: w1 = 132.99, J = 3523.00\n",
            "Iteration 23: w1 = 133.00, J = 3523.00\n",
            "Iteration 24: w1 = 133.00, J = 3523.00\n",
            "Iteration 25: w1 = 133.00, J = 3523.00\n"
          ]
        }
      ]
    },
    {
      "cell_type": "markdown",
      "source": [
        "#Scenario 3\n",
        "1.Did the cost steadily decrease as training progressed?\n",
        "\n",
        "The cost (denoted by the value of J) is decreasing with each iteration and becomes constant (J = 3523.00) in iteration 19.\n",
        "\n",
        "2.Did the gradient descent algorithm converge?\n",
        "\n",
        "The gradient descent algorithm has converged. In iteration 23, the value of w1 and the value of J have become constant.\n",
        "\n",
        "3.What is the minimum loss?\n",
        "\n",
        "The minimum loss is at iteration 23 which is J = 3523.00\n",
        "\n",
        "4.What is the optimal value of ( w1 )?\n",
        "\n",
        "The optimal value of w1 is 133.00 which is achieved in iteration 23.\n",
        "\n",
        "5.In how many iterations did gradient descent converge (at which row # in the output)?\n",
        "\n",
        "Gradient descent converged after iteration 23 as the values of w1 and J have not changed after that.\n",
        "\n"
      ],
      "metadata": {
        "id": "8707GuXxD18O"
      }
    },
    {
      "cell_type": "markdown",
      "source": [
        "#Scenario 4\n",
        "\n",
        "alpha=0.19; niterations = 25; w1 = 60 # Scenario 1"
      ],
      "metadata": {
        "id": "8zzaa0Bn_sd9"
      }
    },
    {
      "cell_type": "code",
      "execution_count": null,
      "metadata": {
        "colab": {
          "base_uri": "https://localhost:8080/"
        },
        "id": "n0rlDHeZ_W1h",
        "outputId": "34467e0b-7df3-479b-c4eb-28c4a6b3c8df"
      },
      "outputs": [
        {
          "output_type": "stream",
          "name": "stdout",
          "text": [
            "Initial w1: 60.00, Initial J: 32832.50\n",
            "Iteration 1: w1 = 212.57, J = 38345.62\n",
            "Iteration 2: w1 = 46.27, J = 44895.75\n",
            "Iteration 3: w1 = 227.54, J = 52677.97\n",
            "Iteration 4: w1 = 29.95, J = 61924.01\n",
            "Iteration 5: w1 = 245.32, J = 72909.25\n",
            "Iteration 6: w1 = 10.57, J = 85960.80\n",
            "Iteration 7: w1 = 266.45, J = 101467.35\n",
            "Iteration 8: w1 = -12.46, J = 119890.68\n",
            "Iteration 9: w1 = 291.55, J = 141779.44\n",
            "Iteration 10: w1 = -39.82, J = 167785.48\n",
            "Iteration 11: w1 = 321.37, J = 198683.25\n",
            "Iteration 12: w1 = -72.32, J = 235392.89\n",
            "Iteration 13: w1 = 356.80, J = 279007.62\n",
            "Iteration 14: w1 = -110.95, J = 330826.28\n",
            "Iteration 15: w1 = 398.90, J = 392392.02\n",
            "Iteration 16: w1 = -156.83, J = 465538.29\n",
            "Iteration 17: w1 = 448.92, J = 552443.36\n",
            "Iteration 18: w1 = -211.35, J = 655695.28\n",
            "Iteration 19: w1 = 508.34, J = 778368.89\n",
            "Iteration 20: w1 = -276.12, J = 924117.40\n",
            "Iteration 21: w1 = 578.94, J = 1097281.20\n",
            "Iteration 22: w1 = -353.08, J = 1303017.12\n",
            "Iteration 23: w1 = 662.82, J = 1547451.97\n",
            "Iteration 24: w1 = -444.51, J = 1837865.00\n",
            "Iteration 25: w1 = 762.48, J = 2182904.73\n"
          ]
        }
      ],
      "source": [
        "# Given parameters for Scenario 4\n",
        "alpha = 0.19       # Learning rate\n",
        "niterations = 25   # Number of iterations\n",
        "w1 = 60            # Initial value of w1\n",
        "\n",
        "# Step 1.1: Calculate current value of J at current value of w1\n",
        "J = calc_J(w1)\n",
        "\n",
        "# Step 1.2: Print w1 (rounded to 2 decimal places) and J (rounded to 2 decimal places)\n",
        "print(f\"Initial w1: {w1:.2f}, Initial J: {J:.2f}\")\n",
        "\n",
        "# Gradient descent loop for niterations\n",
        "for i in range(niterations):\n",
        "\n",
        "    # Step 1.3: Calculate new value of w1 (gradient update)\n",
        "    gradient = calc_dJ_dw1(w1)  # Calculate the gradient (slope)\n",
        "    w1 = w1 - alpha * gradient   # Update w1 using gradient descent\n",
        "\n",
        "    # Step 1.4: Calculate new value of J at new w1\n",
        "    J = calc_J(w1)\n",
        "\n",
        "    # Step 1.5: Print w1 (rounded to 2 decimal places) and J (rounded to 2 decimal places)\n",
        "    print(f\"Iteration {i+1}: w1 = {w1:.2f}, J = {J:.2f}\")"
      ]
    },
    {
      "cell_type": "markdown",
      "source": [
        "#Scenario 4\n",
        "1.Did the cost steadily decrease as training progressed?\n",
        "\n",
        "The cost (denoted by the value of J) is not decreasing with each iteration. The value of J is increasing with each iteration.\n",
        "\n",
        "2.Did the gradient descent algorithm converge?\n",
        "\n",
        "The gradient descent algorithm has not converged. the value of w1 is changing with each iteration. This shows divergence instead of convergence.\n",
        "\n",
        "3.What is the minimum loss?\n",
        "\n",
        "There is no minimum loss because the cost is increasing with each iteration. The loss is continually growing rather than decreasing toward a stable value.\n",
        "\n",
        "4.What is the optimal value of ( w1 )?\n",
        "\n",
        "There is no optimal value of w1 as the cost is increasing and value of w1 is changing with each iteration.\n",
        "\n",
        "5.In how many iterations did gradient descent converge (at which row # in the output)?\n",
        "\n",
        "Gradient descent did not converge. Therefore, there is no specific iteration where convergence occurred. The algorithm is diverging, and no stable solution is reached."
      ],
      "metadata": {
        "id": "jsGY1KluEZs_"
      }
    },
    {
      "cell_type": "markdown",
      "source": [
        "#Exercise 2 (Single Neuron)"
      ],
      "metadata": {
        "id": "xhM7l1GEHfnH"
      }
    },
    {
      "cell_type": "code",
      "source": [
        "### DO NOT EDIT THIS CELL!!!\n",
        "### DO NOT IMPORT ANY ADDITIONAL PACKAGES\n",
        "\n",
        "import numpy as np\n",
        "import scipy\n",
        "from sklearn import metrics\n",
        "import matplotlib.pyplot as plt\n",
        "%matplotlib inline"
      ],
      "metadata": {
        "id": "dnunWbzBHDdW"
      },
      "execution_count": null,
      "outputs": []
    },
    {
      "cell_type": "markdown",
      "source": [
        "#Part 1"
      ],
      "metadata": {
        "id": "uLKs2Lr2HzQ4"
      }
    },
    {
      "cell_type": "code",
      "source": [
        "### DO NOT EDIT THIS CELL!!!\n",
        "\n",
        "# read the breast cancer dataset from sklearn\n",
        "from sklearn.datasets import load_breast_cancer\n",
        "\n",
        "dataset = load_breast_cancer()\n",
        "\n",
        "# feature matrix X: mxn\n",
        "X = dataset.data\n",
        "print (\"X: \", X.shape)\n",
        "\n",
        "# target vector y: mx1\n",
        "y = dataset.target\n",
        "y = y.reshape(y.shape[0], 1)\n",
        "print (\"y: \", y.shape)\n",
        "\n",
        "# number of samples: m\n",
        "m = X.shape[0]\n",
        "print (\"m: \", m)\n",
        "\n",
        "# number of features: n\n",
        "n = X.shape[1]\n",
        "features = dataset.feature_names\n",
        "print (\"n: \",n)\n",
        "print (\"features: \", features)"
      ],
      "metadata": {
        "colab": {
          "base_uri": "https://localhost:8080/"
        },
        "id": "orPKBNa4H1pO",
        "outputId": "b72b9b0f-e11e-45b6-9118-91a9a92d815e"
      },
      "execution_count": null,
      "outputs": [
        {
          "output_type": "stream",
          "name": "stdout",
          "text": [
            "X:  (569, 30)\n",
            "y:  (569, 1)\n",
            "m:  569\n",
            "n:  30\n",
            "features:  ['mean radius' 'mean texture' 'mean perimeter' 'mean area'\n",
            " 'mean smoothness' 'mean compactness' 'mean concavity'\n",
            " 'mean concave points' 'mean symmetry' 'mean fractal dimension'\n",
            " 'radius error' 'texture error' 'perimeter error' 'area error'\n",
            " 'smoothness error' 'compactness error' 'concavity error'\n",
            " 'concave points error' 'symmetry error' 'fractal dimension error'\n",
            " 'worst radius' 'worst texture' 'worst perimeter' 'worst area'\n",
            " 'worst smoothness' 'worst compactness' 'worst concavity'\n",
            " 'worst concave points' 'worst symmetry' 'worst fractal dimension']\n"
          ]
        }
      ]
    },
    {
      "cell_type": "code",
      "source": [
        "# Initialize hyperparameters nepochs and alpha\n",
        "nepochs = 5000\n",
        "alpha = 2.5e-6\n",
        "\n",
        "# Initialize model parameters w and b\n",
        "w = np.zeros((n, 1))\n",
        "b = 0\n",
        "\n",
        "# This list will collect loss for each iteration\n",
        "costs = []\n",
        "\n",
        "# Training loop for logistic regression\n",
        "for epoch in range(nepochs):\n",
        "    # Forward pass (calculate current loss)\n",
        "    z = np.dot(X, w) + b\n",
        "    yhat = 1 / (1 + np.exp(-z))  # Sigmoid function\n",
        "    cost = - (1 / m) * np.sum(y * np.log(yhat) + (1 - y) * np.log(1 - yhat))  # Cost function\n",
        "    costs.append(cost)\n",
        "\n",
        "    # Backward propagation (calculate current gradient)\n",
        "    dw = (1 / m) * np.dot(X.T, (yhat - y))\n",
        "    db = (1 / m) * np.sum(yhat - y)\n",
        "\n",
        "    # Gradient descent (update parameters)\n",
        "    w = w - alpha * dw\n",
        "    b = b - alpha * db\n",
        "\n",
        "# Calculate accuracy for training data\n",
        "z = np.dot(X, w) + b\n",
        "yhat = 1 / (1 + np.exp(-z))  # Sigmoid function\n",
        "yhat = np.round(yhat)  # Threshold the predictions at 0.5\n",
        "\n",
        "# Manually calculate accuracy\n",
        "correct_predictions = np.sum(yhat == y)\n",
        "accuracy = correct_predictions / m\n",
        "\n",
        "print(\"Training Accuracy: {:.2f}%\".format(accuracy * 100))\n",
        "\n",
        "# Plot the cost over iterations\n",
        "plt.plot(costs)\n",
        "plt.xlabel('Iterations')\n",
        "plt.ylabel('Cost')\n",
        "plt.title('Cost vs Iterations')\n",
        "plt.show()"
      ],
      "metadata": {
        "colab": {
          "base_uri": "https://localhost:8080/",
          "height": 489
        },
        "id": "i-7mIIG3H325",
        "outputId": "eacdc84b-1674-4698-c65e-677ca47b3079"
      },
      "execution_count": null,
      "outputs": [
        {
          "output_type": "stream",
          "name": "stdout",
          "text": [
            "Training Accuracy: 91.92%\n"
          ]
        },
        {
          "output_type": "display_data",
          "data": {
            "text/plain": [
              "<Figure size 640x480 with 1 Axes>"
            ],
            "image/png": "[encoded data removed]"
          },
          "metadata": {}
        }
      ]
    },
    {
      "cell_type": "code",
      "source": [
        "### DO NOT EDIT THIS CELL!!!\n",
        "\n",
        "# compare results from your implementation to that of SGDClassifier\n",
        "# your accuracy score above should match (or be very close to) what you get from here\n",
        "\n",
        "nepochs = 5000\n",
        "alpha = 2.5e-6\n",
        "y = y.reshape(y.shape[0],) # to avoid warning\n",
        "\n",
        "from sklearn.linear_model import SGDClassifier\n",
        "clf = SGDClassifier(loss='log_loss', # loss function for logistic regression\n",
        "                    penalty=None, alpha=0, # no regularization\n",
        "                    max_iter=nepochs, tol=None, # stop based only on nepochs\n",
        "                    shuffle=False, random_state=0, # don't shuffle, use random state to replicate results\n",
        "                    learning_rate='constant', eta0=alpha) # constant learning rate of alpha\n",
        "clf.fit(X,y)\n",
        "print (round(clf.score(X,y),2))"
      ],
      "metadata": {
        "colab": {
          "base_uri": "https://localhost:8080/"
        },
        "id": "ISsCq_p4IIqZ",
        "outputId": "5edf495f-222c-4844-c235-f265ceef44d7"
      },
      "execution_count": null,
      "outputs": [
        {
          "output_type": "stream",
          "name": "stdout",
          "text": [
            "0.92\n"
          ]
        }
      ]
    },
    {
      "cell_type": "markdown",
      "source": [
        "#Part 2"
      ],
      "metadata": {
        "id": "R9Bt_vfGIRP1"
      }
    },
    {
      "cell_type": "code",
      "source": [
        "### DO NOT EDIT THIS CELL!!!\n",
        "\n",
        "# read the diabetes dataset from sklearn\n",
        "from sklearn.datasets import load_diabetes\n",
        "\n",
        "dataset = load_diabetes()\n",
        "\n",
        "# feature matrix X: mxn\n",
        "X = dataset.data\n",
        "print (\"X: \", X.shape)\n",
        "\n",
        "# target vector y: mx1\n",
        "y = dataset.target\n",
        "y = y.reshape(y.shape[0], 1)\n",
        "print (\"y: \", y.shape)\n",
        "\n",
        "# number of samples: m\n",
        "m = X.shape[0]\n",
        "print (\"m: \", m)\n",
        "\n",
        "# number of features: n\n",
        "n = X.shape[1]\n",
        "features = dataset.feature_names\n",
        "print (\"n: \",n)\n",
        "print (\"features: \", features)"
      ],
      "metadata": {
        "colab": {
          "base_uri": "https://localhost:8080/"
        },
        "id": "gaCn3sobIUBP",
        "outputId": "bda164b0-f145-471a-fea2-2eefefcf5bf1"
      },
      "execution_count": null,
      "outputs": [
        {
          "output_type": "stream",
          "name": "stdout",
          "text": [
            "X:  (442, 10)\n",
            "y:  (442, 1)\n",
            "m:  442\n",
            "n:  10\n",
            "features:  ['age', 'sex', 'bmi', 'bp', 's1', 's2', 's3', 's4', 's5', 's6']\n"
          ]
        }
      ]
    },
    {
      "cell_type": "code",
      "source": [
        "# Initialize hyperparameters nepochs and alpha\n",
        "nepochs = 5000\n",
        "alpha = 0.5\n",
        "\n",
        "# Initialize model parameters w and b\n",
        "w = np.zeros((n, 1))\n",
        "b = 0\n",
        "\n",
        "# This list will collect loss for each iteration\n",
        "costs = []\n",
        "\n",
        "# Repeat for nepochs\n",
        "for epoch in range(nepochs):\n",
        "    # Forward pass (calculate current loss)\n",
        "    yhat = np.dot(X, w) + b  # Predicted values\n",
        "    cost = (1 / (2 * m)) * np.sum((yhat - y) ** 2)  # Mean Squared Error (MSE) loss\n",
        "    costs.append(cost)\n",
        "\n",
        "    # Backward propagation (calculate current gradient)\n",
        "    dw = (1 / m) * np.dot(X.T, (yhat - y))  # Gradient of the loss function with respect to w\n",
        "    db = (1 / m) * np.sum(yhat - y)  # Gradient of the loss function with respect to b\n",
        "\n",
        "    # Gradient descent (update parameters)\n",
        "    w = w - alpha * dw\n",
        "    b = b - alpha * db\n",
        "\n",
        "# Final predictions with trained parameters\n",
        "yhat = np.dot(X, w) + b\n",
        "\n",
        "# Calculate Mean Squared Error (MSE)\n",
        "mse = (1 / m) * np.sum((yhat - y) ** 2)\n",
        "\n",
        "# Calculate R-squared (R²)\n",
        "ss_total = np.sum((y - np.mean(y)) ** 2)\n",
        "ss_residual = np.sum((y - yhat) ** 2)\n",
        "r2 = 1 - (ss_residual / ss_total)\n",
        "\n",
        "print(\"Mean Squared Error (MSE):\", mse)\n",
        "print(\"R-squared (R²):\", r2)\n",
        "\n",
        "# Plot the cost over iterations\n",
        "plt.plot(costs)\n",
        "plt.xlabel('Iterations')\n",
        "plt.ylabel('Cost (MSE)')\n",
        "plt.title('Cost vs Iterations')\n",
        "plt.show()"
      ],
      "metadata": {
        "colab": {
          "base_uri": "https://localhost:8080/",
          "height": 507
        },
        "id": "C6aFmJsSIf0p",
        "outputId": "7abdaa18-b6a2-4ba7-d60f-9984dab577ce"
      },
      "execution_count": null,
      "outputs": [
        {
          "output_type": "stream",
          "name": "stdout",
          "text": [
            "Mean Squared Error (MSE): 2880.4940919141\n",
            "R-squared (R²): 0.5142411459934224\n"
          ]
        },
        {
          "output_type": "display_data",
          "data": {
            "text/plain": [
              "<Figure size 640x480 with 1 Axes>"
            ],
            "image/png": "[encoded data removed]"
          },
          "metadata": {}
        }
      ]
    },
    {
      "cell_type": "code",
      "source": [
        "### DO NOT EDIT THIS CELL!!!\n",
        "\n",
        "# compare results from our implementation to that of SGDRegressor\n",
        "# your mse and r2 score above should match (or be very close to) what you get from here\n",
        "\n",
        "nepochs = 5000\n",
        "alpha = 2.5e-6\n",
        "y = y.reshape(y.shape[0],) # to avoid warning\n",
        "\n",
        "from sklearn.linear_model import SGDRegressor\n",
        "clf = SGDRegressor(loss='squared_error', # mse for linear regression\n",
        "                    penalty=None, alpha=0, # no regularization\n",
        "                    max_iter=nepochs, tol=None, # stop based on only on nepochs\n",
        "                    shuffle=False, random_state=0, # don't shuffle, use random state to replicate results\n",
        "                    learning_rate='constant', eta0=alpha) # constant learning rate of alpha\n",
        "clf.fit(X,y)\n",
        "yhat = clf.predict(X)\n",
        "print (round(metrics.mean_squared_error(y, yhat),2))\n",
        "print (round(clf.score(X,y),2))"
      ],
      "metadata": {
        "colab": {
          "base_uri": "https://localhost:8080/"
        },
        "id": "2B0CHZQfInhm",
        "outputId": "8b1a2262-11df-424b-a3c9-7146eb1ffe14"
      },
      "execution_count": null,
      "outputs": [
        {
          "output_type": "stream",
          "name": "stdout",
          "text": [
            "5723.38\n",
            "0.03\n"
          ]
        }
      ]
    },
    {
      "cell_type": "markdown",
      "source": [
        "#Acknowledgement\n",
        "\n",
        "GenAI tools have been used to rectify errors in Python code."
      ],
      "metadata": {
        "id": "DYyYcF04Iron"
      }
    },
    {
      "cell_type": "code",
      "source": [
        "!pip install jupyter\n",
        "!pip install nbconvert\n",
        "\n",
        "from google.colab import drive\n",
        "drive.mount('/content/drive')\n",
        "\n",
        "!jupyter nbconvert \"/content/drive/MyDrive/Colab Notebooks/LA3_Astha_Garima.ipynb\" --to html\n",
        "\n",
        "\n",
        "\n",
        "from google.colab import files\n",
        "files.download('/content/drive/MyDrive/Colab Notebooks/LA3_Astha_Garima.html')"
      ],
      "metadata": {
        "colab": {
          "base_uri": "https://localhost:8080/",
          "height": 1000
        },
        "id": "kYJRF7GWIs8d",
        "outputId": "57d112c3-64ee-4b9d-967a-8d93402c0908"
      },
      "execution_count": null,
      "outputs": [
        {
          "output_type": "stream",
          "name": "stdout",
          "text": [
            "Collecting jupyter\n",
            "  Downloading jupyter-1.1.1-py2.py3-none-any.whl.metadata (2.0 kB)\n",
            "Requirement already satisfied: notebook in /usr/local/lib/python3.11/dist-packages (from jupyter) (6.5.5)\n",
            "Requirement already satisfied: jupyter-console in /usr/local/lib/python3.11/dist-packages (from jupyter) (6.1.0)\n",
            "Requirement already satisfied: nbconvert in /usr/local/lib/python3.11/dist-packages (from jupyter) (7.16.6)\n",
            "Requirement already satisfied: ipykernel in /usr/local/lib/python3.11/dist-packages (from jupyter) (5.5.6)\n",
            "Requirement already satisfied: ipywidgets in /usr/local/lib/python3.11/dist-packages (from jupyter) (7.7.1)\n",
            "Collecting jupyterlab (from jupyter)\n",
            "  Downloading jupyterlab-4.3.5-py3-none-any.whl.metadata (16 kB)\n",
            "Requirement already satisfied: ipython-genutils in /usr/local/lib/python3.11/dist-packages (from ipykernel->jupyter) (0.2.0)\n",
            "Requirement already satisfied: ipython>=5.0.0 in /usr/local/lib/python3.11/dist-packages (from ipykernel->jupyter) (7.34.0)\n",
            "Requirement already satisfied: traitlets>=4.1.0 in /usr/local/lib/python3.11/dist-packages (from ipykernel->jupyter) (5.7.1)\n",
            "Requirement already satisfied: jupyter-client in /usr/local/lib/python3.11/dist-packages (from ipykernel->jupyter) (6.1.12)\n",
            "Requirement already satisfied: tornado>=4.2 in /usr/local/lib/python3.11/dist-packages (from ipykernel->jupyter) (6.4.2)\n",
            "Requirement already satisfied: widgetsnbextension~=3.6.0 in /usr/local/lib/python3.11/dist-packages (from ipywidgets->jupyter) (3.6.10)\n",
            "Requirement already satisfied: jupyterlab-widgets>=1.0.0 in /usr/local/lib/python3.11/dist-packages (from ipywidgets->jupyter) (3.0.13)\n",
            "Requirement already satisfied: prompt-toolkit!=3.0.0,!=3.0.1,<3.1.0,>=2.0.0 in /usr/local/lib/python3.11/dist-packages (from jupyter-console->jupyter) (3.0.50)\n",
            "Requirement already satisfied: pygments in /usr/local/lib/python3.11/dist-packages (from jupyter-console->jupyter) (2.18.0)\n",
            "Collecting async-lru>=1.0.0 (from jupyterlab->jupyter)\n",
            "  Downloading async_lru-2.0.4-py3-none-any.whl.metadata (4.5 kB)\n",
            "Requirement already satisfied: httpx>=0.25.0 in /usr/local/lib/python3.11/dist-packages (from jupyterlab->jupyter) (0.28.1)\n",
            "Collecting ipykernel (from jupyter)\n",
            "  Downloading ipykernel-6.29.5-py3-none-any.whl.metadata (6.3 kB)\n",
            "Requirement already satisfied: jinja2>=3.0.3 in /usr/local/lib/python3.11/dist-packages (from jupyterlab->jupyter) (3.1.5)\n",
            "Requirement already satisfied: jupyter-core in /usr/local/lib/python3.11/dist-packages (from jupyterlab->jupyter) (5.7.2)\n",
            "Collecting jupyter-lsp>=2.0.0 (from jupyterlab->jupyter)\n",
            "  Downloading jupyter_lsp-2.2.5-py3-none-any.whl.metadata (1.8 kB)\n",
            "Collecting jupyter-server<3,>=2.4.0 (from jupyterlab->jupyter)\n",
            "  Downloading jupyter_server-2.15.0-py3-none-any.whl.metadata (8.4 kB)\n",
            "Collecting jupyterlab-server<3,>=2.27.1 (from jupyterlab->jupyter)\n",
            "  Downloading jupyterlab_server-2.27.3-py3-none-any.whl.metadata (5.9 kB)\n",
            "Requirement already satisfied: notebook-shim>=0.2 in /usr/local/lib/python3.11/dist-packages (from jupyterlab->jupyter) (0.2.4)\n",
            "Requirement already satisfied: packaging in /usr/local/lib/python3.11/dist-packages (from jupyterlab->jupyter) (24.2)\n",
            "Requirement already satisfied: setuptools>=40.8.0 in /usr/local/lib/python3.11/dist-packages (from jupyterlab->jupyter) (75.1.0)\n",
            "Collecting comm>=0.1.1 (from ipykernel->jupyter)\n",
            "  Downloading comm-0.2.2-py3-none-any.whl.metadata (3.7 kB)\n",
            "Requirement already satisfied: debugpy>=1.6.5 in /usr/local/lib/python3.11/dist-packages (from ipykernel->jupyter) (1.8.0)\n",
            "Requirement already satisfied: matplotlib-inline>=0.1 in /usr/local/lib/python3.11/dist-packages (from ipykernel->jupyter) (0.1.7)\n",
            "Requirement already satisfied: nest-asyncio in /usr/local/lib/python3.11/dist-packages (from ipykernel->jupyter) (1.6.0)\n",
            "Requirement already satisfied: psutil in /usr/local/lib/python3.11/dist-packages (from ipykernel->jupyter) (5.9.5)\n",
            "Requirement already satisfied: pyzmq>=24 in /usr/local/lib/python3.11/dist-packages (from ipykernel->jupyter) (24.0.1)\n",
            "Requirement already satisfied: beautifulsoup4 in /usr/local/lib/python3.11/dist-packages (from nbconvert->jupyter) (4.13.3)\n",
            "Requirement already satisfied: bleach!=5.0.0 in /usr/local/lib/python3.11/dist-packages (from bleach[css]!=5.0.0->nbconvert->jupyter) (6.2.0)\n",
            "Requirement already satisfied: defusedxml in /usr/local/lib/python3.11/dist-packages (from nbconvert->jupyter) (0.7.1)\n",
            "Requirement already satisfied: jupyterlab-pygments in /usr/local/lib/python3.11/dist-packages (from nbconvert->jupyter) (0.3.0)\n",
            "Requirement already satisfied: markupsafe>=2.0 in /usr/local/lib/python3.11/dist-packages (from nbconvert->jupyter) (3.0.2)\n",
            "Requirement already satisfied: mistune<4,>=2.0.3 in /usr/local/lib/python3.11/dist-packages (from nbconvert->jupyter) (3.1.1)\n",
            "Requirement already satisfied: nbclient>=0.5.0 in /usr/local/lib/python3.11/dist-packages (from nbconvert->jupyter) (0.10.2)\n",
            "Requirement already satisfied: nbformat>=5.7 in /usr/local/lib/python3.11/dist-packages (from nbconvert->jupyter) (5.10.4)\n",
            "Requirement already satisfied: pandocfilters>=1.4.1 in /usr/local/lib/python3.11/dist-packages (from nbconvert->jupyter) (1.5.1)\n",
            "Requirement already satisfied: argon2-cffi in /usr/local/lib/python3.11/dist-packages (from notebook->jupyter) (23.1.0)\n",
            "Requirement already satisfied: Send2Trash>=1.8.0 in /usr/local/lib/python3.11/dist-packages (from notebook->jupyter) (1.8.3)\n",
            "Requirement already satisfied: terminado>=0.8.3 in /usr/local/lib/python3.11/dist-packages (from notebook->jupyter) (0.18.1)\n",
            "Requirement already satisfied: prometheus-client in /usr/local/lib/python3.11/dist-packages (from notebook->jupyter) (0.21.1)\n",
            "Requirement already satisfied: nbclassic>=0.4.7 in /usr/local/lib/python3.11/dist-packages (from notebook->jupyter) (1.2.0)\n",
            "Requirement already satisfied: webencodings in /usr/local/lib/python3.11/dist-packages (from bleach!=5.0.0->bleach[css]!=5.0.0->nbconvert->jupyter) (0.5.1)\n",
            "Requirement already satisfied: tinycss2<1.5,>=1.1.0 in /usr/local/lib/python3.11/dist-packages (from bleach[css]!=5.0.0->nbconvert->jupyter) (1.4.0)\n",
            "Requirement already satisfied: anyio in /usr/local/lib/python3.11/dist-packages (from httpx>=0.25.0->jupyterlab->jupyter) (3.7.1)\n",
            "Requirement already satisfied: certifi in /usr/local/lib/python3.11/dist-packages (from httpx>=0.25.0->jupyterlab->jupyter) (2025.1.31)\n",
            "Requirement already satisfied: httpcore==1.* in /usr/local/lib/python3.11/dist-packages (from httpx>=0.25.0->jupyterlab->jupyter) (1.0.7)\n",
            "Requirement already satisfied: idna in /usr/local/lib/python3.11/dist-packages (from httpx>=0.25.0->jupyterlab->jupyter) (3.10)\n",
            "Requirement already satisfied: h11<0.15,>=0.13 in /usr/local/lib/python3.11/dist-packages (from httpcore==1.*->httpx>=0.25.0->jupyterlab->jupyter) (0.14.0)\n",
            "Collecting jedi>=0.16 (from ipython>=5.0.0->ipykernel->jupyter)\n",
            "  Downloading jedi-0.19.2-py2.py3-none-any.whl.metadata (22 kB)\n",
            "Requirement already satisfied: decorator in /usr/local/lib/python3.11/dist-packages (from ipython>=5.0.0->ipykernel->jupyter) (4.4.2)\n",
            "Requirement already satisfied: pickleshare in /usr/local/lib/python3.11/dist-packages (from ipython>=5.0.0->ipykernel->jupyter) (0.7.5)\n",
            "Requirement already satisfied: backcall in /usr/local/lib/python3.11/dist-packages (from ipython>=5.0.0->ipykernel->jupyter) (0.2.0)\n",
            "Requirement already satisfied: pexpect>4.3 in /usr/local/lib/python3.11/dist-packages (from ipython>=5.0.0->ipykernel->jupyter) (4.9.0)\n",
            "Requirement already satisfied: python-dateutil>=2.1 in /usr/local/lib/python3.11/dist-packages (from jupyter-client->ipykernel->jupyter) (2.8.2)\n",
            "Requirement already satisfied: platformdirs>=2.5 in /usr/local/lib/python3.11/dist-packages (from jupyter-core->jupyterlab->jupyter) (4.3.6)\n",
            "Collecting jupyter-client (from jupyter-console->jupyter)\n",
            "  Downloading jupyter_client-7.4.9-py3-none-any.whl.metadata (8.5 kB)\n",
            "Collecting jupyter-events>=0.11.0 (from jupyter-server<3,>=2.4.0->jupyterlab->jupyter)\n",
            "  Downloading jupyter_events-0.12.0-py3-none-any.whl.metadata (5.8 kB)\n",
            "Collecting jupyter-server-terminals>=0.4.4 (from jupyter-server<3,>=2.4.0->jupyterlab->jupyter)\n",
            "  Downloading jupyter_server_terminals-0.5.3-py3-none-any.whl.metadata (5.6 kB)\n",
            "Collecting overrides>=5.0 (from jupyter-server<3,>=2.4.0->jupyterlab->jupyter)\n",
            "  Downloading overrides-7.7.0-py3-none-any.whl.metadata (5.8 kB)\n",
            "Requirement already satisfied: websocket-client>=1.7 in /usr/local/lib/python3.11/dist-packages (from jupyter-server<3,>=2.4.0->jupyterlab->jupyter) (1.8.0)\n",
            "Requirement already satisfied: argon2-cffi-bindings in /usr/local/lib/python3.11/dist-packages (from argon2-cffi->notebook->jupyter) (21.2.0)\n",
            "Requirement already satisfied: entrypoints in /usr/local/lib/python3.11/dist-packages (from jupyter-client->jupyter-console->jupyter) (0.4)\n",
            "Requirement already satisfied: babel>=2.10 in /usr/local/lib/python3.11/dist-packages (from jupyterlab-server<3,>=2.27.1->jupyterlab->jupyter) (2.17.0)\n",
            "Collecting json5>=0.9.0 (from jupyterlab-server<3,>=2.27.1->jupyterlab->jupyter)\n",
            "  Downloading json5-0.10.0-py3-none-any.whl.metadata (34 kB)\n",
            "Requirement already satisfied: jsonschema>=4.18.0 in /usr/local/lib/python3.11/dist-packages (from jupyterlab-server<3,>=2.27.1->jupyterlab->jupyter) (4.23.0)\n",
            "Requirement already satisfied: requests>=2.31 in /usr/local/lib/python3.11/dist-packages (from jupyterlab-server<3,>=2.27.1->jupyterlab->jupyter) (2.32.3)\n",
            "Requirement already satisfied: fastjsonschema>=2.15 in /usr/local/lib/python3.11/dist-packages (from nbformat>=5.7->nbconvert->jupyter) (2.21.1)\n",
            "Requirement already satisfied: wcwidth in /usr/local/lib/python3.11/dist-packages (from prompt-toolkit!=3.0.0,!=3.0.1,<3.1.0,>=2.0.0->jupyter-console->jupyter) (0.2.13)\n",
            "Requirement already satisfied: ptyprocess in /usr/local/lib/python3.11/dist-packages (from terminado>=0.8.3->notebook->jupyter) (0.7.0)\n",
            "Requirement already satisfied: soupsieve>1.2 in /usr/local/lib/python3.11/dist-packages (from beautifulsoup4->nbconvert->jupyter) (2.6)\n",
            "Requirement already satisfied: typing-extensions>=4.0.0 in /usr/local/lib/python3.11/dist-packages (from beautifulsoup4->nbconvert->jupyter) (4.12.2)\n",
            "Requirement already satisfied: sniffio>=1.1 in /usr/local/lib/python3.11/dist-packages (from anyio->httpx>=0.25.0->jupyterlab->jupyter) (1.3.1)\n",
            "Requirement already satisfied: parso<0.9.0,>=0.8.4 in /usr/local/lib/python3.11/dist-packages (from jedi>=0.16->ipython>=5.0.0->ipykernel->jupyter) (0.8.4)\n",
            "Requirement already satisfied: attrs>=22.2.0 in /usr/local/lib/python3.11/dist-packages (from jsonschema>=4.18.0->jupyterlab-server<3,>=2.27.1->jupyterlab->jupyter) (25.1.0)\n",
            "Requirement already satisfied: jsonschema-specifications>=2023.03.6 in /usr/local/lib/python3.11/dist-packages (from jsonschema>=4.18.0->jupyterlab-server<3,>=2.27.1->jupyterlab->jupyter) (2024.10.1)\n",
            "Requirement already satisfied: referencing>=0.28.4 in /usr/local/lib/python3.11/dist-packages (from jsonschema>=4.18.0->jupyterlab-server<3,>=2.27.1->jupyterlab->jupyter) (0.36.2)\n",
            "Requirement already satisfied: rpds-py>=0.7.1 in /usr/local/lib/python3.11/dist-packages (from jsonschema>=4.18.0->jupyterlab-server<3,>=2.27.1->jupyterlab->jupyter) (0.22.3)\n",
            "Collecting python-json-logger>=2.0.4 (from jupyter-events>=0.11.0->jupyter-server<3,>=2.4.0->jupyterlab->jupyter)\n",
            "  Downloading python_json_logger-3.2.1-py3-none-any.whl.metadata (4.1 kB)\n",
            "Requirement already satisfied: pyyaml>=5.3 in /usr/local/lib/python3.11/dist-packages (from jupyter-events>=0.11.0->jupyter-server<3,>=2.4.0->jupyterlab->jupyter) (6.0.2)\n",
            "Collecting rfc3339-validator (from jupyter-events>=0.11.0->jupyter-server<3,>=2.4.0->jupyterlab->jupyter)\n",
            "  Downloading rfc3339_validator-0.1.4-py2.py3-none-any.whl.metadata (1.5 kB)\n",
            "Collecting rfc3986-validator>=0.1.1 (from jupyter-events>=0.11.0->jupyter-server<3,>=2.4.0->jupyterlab->jupyter)\n",
            "  Downloading rfc3986_validator-0.1.1-py2.py3-none-any.whl.metadata (1.7 kB)\n",
            "Requirement already satisfied: six>=1.5 in /usr/local/lib/python3.11/dist-packages (from python-dateutil>=2.1->jupyter-client->ipykernel->jupyter) (1.17.0)\n",
            "Requirement already satisfied: charset-normalizer<4,>=2 in /usr/local/lib/python3.11/dist-packages (from requests>=2.31->jupyterlab-server<3,>=2.27.1->jupyterlab->jupyter) (3.4.1)\n",
            "Requirement already satisfied: urllib3<3,>=1.21.1 in /usr/local/lib/python3.11/dist-packages (from requests>=2.31->jupyterlab-server<3,>=2.27.1->jupyterlab->jupyter) (2.3.0)\n",
            "Requirement already satisfied: cffi>=1.0.1 in /usr/local/lib/python3.11/dist-packages (from argon2-cffi-bindings->argon2-cffi->notebook->jupyter) (1.17.1)\n",
            "Requirement already satisfied: pycparser in /usr/local/lib/python3.11/dist-packages (from cffi>=1.0.1->argon2-cffi-bindings->argon2-cffi->notebook->jupyter) (2.22)\n",
            "Collecting fqdn (from jsonschema[format-nongpl]>=4.18.0->jupyter-events>=0.11.0->jupyter-server<3,>=2.4.0->jupyterlab->jupyter)\n",
            "  Downloading fqdn-1.5.1-py3-none-any.whl.metadata (1.4 kB)\n",
            "Collecting isoduration (from jsonschema[format-nongpl]>=4.18.0->jupyter-events>=0.11.0->jupyter-server<3,>=2.4.0->jupyterlab->jupyter)\n",
            "  Downloading isoduration-20.11.0-py3-none-any.whl.metadata (5.7 kB)\n",
            "Requirement already satisfied: jsonpointer>1.13 in /usr/local/lib/python3.11/dist-packages (from jsonschema[format-nongpl]>=4.18.0->jupyter-events>=0.11.0->jupyter-server<3,>=2.4.0->jupyterlab->jupyter) (3.0.0)\n",
            "Collecting uri-template (from jsonschema[format-nongpl]>=4.18.0->jupyter-events>=0.11.0->jupyter-server<3,>=2.4.0->jupyterlab->jupyter)\n",
            "  Downloading uri_template-1.3.0-py3-none-any.whl.metadata (8.8 kB)\n",
            "Requirement already satisfied: webcolors>=24.6.0 in /usr/local/lib/python3.11/dist-packages (from jsonschema[format-nongpl]>=4.18.0->jupyter-events>=0.11.0->jupyter-server<3,>=2.4.0->jupyterlab->jupyter) (24.11.1)\n",
            "Collecting arrow>=0.15.0 (from isoduration->jsonschema[format-nongpl]>=4.18.0->jupyter-events>=0.11.0->jupyter-server<3,>=2.4.0->jupyterlab->jupyter)\n",
            "  Downloading arrow-1.3.0-py3-none-any.whl.metadata (7.5 kB)\n",
            "Collecting types-python-dateutil>=2.8.10 (from arrow>=0.15.0->isoduration->jsonschema[format-nongpl]>=4.18.0->jupyter-events>=0.11.0->jupyter-server<3,>=2.4.0->jupyterlab->jupyter)\n",
            "  Downloading types_python_dateutil-2.9.0.20241206-py3-none-any.whl.metadata (2.1 kB)\n",
            "Downloading jupyter-1.1.1-py2.py3-none-any.whl (2.7 kB)\n",
            "Downloading jupyterlab-4.3.5-py3-none-any.whl (11.7 MB)\n",
            "\u001b[2K   \u001b[90m━━━━━━━━━━━━━━━━━━━━━━━━━━━━━━━━━━━━━━━━\u001b[0m \u001b[32m11.7/11.7 MB\u001b[0m \u001b[31m40.9 MB/s\u001b[0m eta \u001b[36m0:00:00\u001b[0m\n",
            "\u001b[?25hDownloading ipykernel-6.29.5-py3-none-any.whl (117 kB)\n",
            "\u001b[2K   \u001b[90m━━━━━━━━━━━━━━━━━━━━━━━━━━━━━━━━━━━━━━━━\u001b[0m \u001b[32m117.2/117.2 kB\u001b[0m \u001b[31m11.4 MB/s\u001b[0m eta \u001b[36m0:00:00\u001b[0m\n",
            "\u001b[?25hDownloading async_lru-2.0.4-py3-none-any.whl (6.1 kB)\n",
            "Downloading comm-0.2.2-py3-none-any.whl (7.2 kB)\n",
            "Downloading jupyter_lsp-2.2.5-py3-none-any.whl (69 kB)\n",
            "\u001b[2K   \u001b[90m━━━━━━━━━━━━━━━━━━━━━━━━━━━━━━━━━━━━━━━━\u001b[0m \u001b[32m69.1/69.1 kB\u001b[0m \u001b[31m6.4 MB/s\u001b[0m eta \u001b[36m0:00:00\u001b[0m\n",
            "\u001b[?25hDownloading jupyter_server-2.15.0-py3-none-any.whl (385 kB)\n",
            "\u001b[2K   \u001b[90m━━━━━━━━━━━━━━━━━━━━━━━━━━━━━━━━━━━━━━━━\u001b[0m \u001b[32m385.8/385.8 kB\u001b[0m \u001b[31m27.4 MB/s\u001b[0m eta \u001b[36m0:00:00\u001b[0m\n",
            "\u001b[?25hDownloading jupyter_client-7.4.9-py3-none-any.whl (133 kB)\n",
            "\u001b[2K   \u001b[90m━━━━━━━━━━━━━━━━━━━━━━━━━━━━━━━━━━━━━━━━\u001b[0m \u001b[32m133.5/133.5 kB\u001b[0m \u001b[31m11.1 MB/s\u001b[0m eta \u001b[36m0:00:00\u001b[0m\n",
            "\u001b[?25hDownloading jupyterlab_server-2.27.3-py3-none-any.whl (59 kB)\n",
            "\u001b[2K   \u001b[90m━━━━━━━━━━━━━━━━━━━━━━━━━━━━━━━━━━━━━━━━\u001b[0m \u001b[32m59.7/59.7 kB\u001b[0m \u001b[31m5.5 MB/s\u001b[0m eta \u001b[36m0:00:00\u001b[0m\n",
            "\u001b[?25hDownloading jedi-0.19.2-py2.py3-none-any.whl (1.6 MB)\n",
            "\u001b[2K   \u001b[90m━━━━━━━━━━━━━━━━━━━━━━━━━━━━━━━━━━━━━━━━\u001b[0m \u001b[32m1.6/1.6 MB\u001b[0m \u001b[31m58.6 MB/s\u001b[0m eta \u001b[36m0:00:00\u001b[0m\n",
            "\u001b[?25hDownloading json5-0.10.0-py3-none-any.whl (34 kB)\n",
            "Downloading jupyter_events-0.12.0-py3-none-any.whl (19 kB)\n",
            "Downloading jupyter_server_terminals-0.5.3-py3-none-any.whl (13 kB)\n",
            "Downloading overrides-7.7.0-py3-none-any.whl (17 kB)\n",
            "Downloading python_json_logger-3.2.1-py3-none-any.whl (14 kB)\n",
            "Downloading rfc3986_validator-0.1.1-py2.py3-none-any.whl (4.2 kB)\n",
            "Downloading rfc3339_validator-0.1.4-py2.py3-none-any.whl (3.5 kB)\n",
            "Downloading fqdn-1.5.1-py3-none-any.whl (9.1 kB)\n",
            "Downloading isoduration-20.11.0-py3-none-any.whl (11 kB)\n",
            "Downloading uri_template-1.3.0-py3-none-any.whl (11 kB)\n",
            "Downloading arrow-1.3.0-py3-none-any.whl (66 kB)\n",
            "\u001b[2K   \u001b[90m━━━━━━━━━━━━━━━━━━━━━━━━━━━━━━━━━━━━━━━━\u001b[0m \u001b[32m66.4/66.4 kB\u001b[0m \u001b[31m6.1 MB/s\u001b[0m eta \u001b[36m0:00:00\u001b[0m\n",
            "\u001b[?25hDownloading types_python_dateutil-2.9.0.20241206-py3-none-any.whl (14 kB)\n",
            "Installing collected packages: uri-template, types-python-dateutil, rfc3986-validator, rfc3339-validator, python-json-logger, overrides, json5, jedi, fqdn, comm, async-lru, jupyter-server-terminals, jupyter-client, arrow, isoduration, ipykernel, jupyter-events, jupyter-server, jupyterlab-server, jupyter-lsp, jupyterlab, jupyter\n",
            "  Attempting uninstall: jupyter-client\n",
            "    Found existing installation: jupyter-client 6.1.12\n",
            "    Uninstalling jupyter-client-6.1.12:\n",
            "      Successfully uninstalled jupyter-client-6.1.12\n",
            "  Attempting uninstall: ipykernel\n",
            "    Found existing installation: ipykernel 5.5.6\n",
            "    Uninstalling ipykernel-5.5.6:\n",
            "      Successfully uninstalled ipykernel-5.5.6\n",
            "  Attempting uninstall: jupyter-server\n",
            "    Found existing installation: jupyter-server 1.24.0\n",
            "    Uninstalling jupyter-server-1.24.0:\n",
            "      Successfully uninstalled jupyter-server-1.24.0\n",
            "\u001b[31mERROR: pip's dependency resolver does not currently take into account all the packages that are installed. This behaviour is the source of the following dependency conflicts.\n",
            "google-colab 1.0.0 requires ipykernel==5.5.6, but you have ipykernel 6.29.5 which is incompatible.\u001b[0m\u001b[31m\n",
            "\u001b[0mSuccessfully installed arrow-1.3.0 async-lru-2.0.4 comm-0.2.2 fqdn-1.5.1 ipykernel-6.29.5 isoduration-20.11.0 jedi-0.19.2 json5-0.10.0 jupyter-1.1.1 jupyter-client-7.4.9 jupyter-events-0.12.0 jupyter-lsp-2.2.5 jupyter-server-2.15.0 jupyter-server-terminals-0.5.3 jupyterlab-4.3.5 jupyterlab-server-2.27.3 overrides-7.7.0 python-json-logger-3.2.1 rfc3339-validator-0.1.4 rfc3986-validator-0.1.1 types-python-dateutil-2.9.0.20241206 uri-template-1.3.0\n",
            "Requirement already satisfied: nbconvert in /usr/local/lib/python3.11/dist-packages (7.16.6)\n",
            "Requirement already satisfied: beautifulsoup4 in /usr/local/lib/python3.11/dist-packages (from nbconvert) (4.13.3)\n",
            "Requirement already satisfied: bleach!=5.0.0 in /usr/local/lib/python3.11/dist-packages (from bleach[css]!=5.0.0->nbconvert) (6.2.0)\n",
            "Requirement already satisfied: defusedxml in /usr/local/lib/python3.11/dist-packages (from nbconvert) (0.7.1)\n",
            "Requirement already satisfied: jinja2>=3.0 in /usr/local/lib/python3.11/dist-packages (from nbconvert) (3.1.5)\n",
            "Requirement already satisfied: jupyter-core>=4.7 in /usr/local/lib/python3.11/dist-packages (from nbconvert) (5.7.2)\n",
            "Requirement already satisfied: jupyterlab-pygments in /usr/local/lib/python3.11/dist-packages (from nbconvert) (0.3.0)\n",
            "Requirement already satisfied: markupsafe>=2.0 in /usr/local/lib/python3.11/dist-packages (from nbconvert) (3.0.2)\n",
            "Requirement already satisfied: mistune<4,>=2.0.3 in /usr/local/lib/python3.11/dist-packages (from nbconvert) (3.1.1)\n",
            "Requirement already satisfied: nbclient>=0.5.0 in /usr/local/lib/python3.11/dist-packages (from nbconvert) (0.10.2)\n",
            "Requirement already satisfied: nbformat>=5.7 in /usr/local/lib/python3.11/dist-packages (from nbconvert) (5.10.4)\n",
            "Requirement already satisfied: packaging in /usr/local/lib/python3.11/dist-packages (from nbconvert) (24.2)\n",
            "Requirement already satisfied: pandocfilters>=1.4.1 in /usr/local/lib/python3.11/dist-packages (from nbconvert) (1.5.1)\n",
            "Requirement already satisfied: pygments>=2.4.1 in /usr/local/lib/python3.11/dist-packages (from nbconvert) (2.18.0)\n",
            "Requirement already satisfied: traitlets>=5.1 in /usr/local/lib/python3.11/dist-packages (from nbconvert) (5.7.1)\n",
            "Requirement already satisfied: webencodings in /usr/local/lib/python3.11/dist-packages (from bleach!=5.0.0->bleach[css]!=5.0.0->nbconvert) (0.5.1)\n",
            "Requirement already satisfied: tinycss2<1.5,>=1.1.0 in /usr/local/lib/python3.11/dist-packages (from bleach[css]!=5.0.0->nbconvert) (1.4.0)\n",
            "Requirement already satisfied: platformdirs>=2.5 in /usr/local/lib/python3.11/dist-packages (from jupyter-core>=4.7->nbconvert) (4.3.6)\n",
            "Requirement already satisfied: jupyter-client>=6.1.12 in /usr/local/lib/python3.11/dist-packages (from nbclient>=0.5.0->nbconvert) (7.4.9)\n",
            "Requirement already satisfied: fastjsonschema>=2.15 in /usr/local/lib/python3.11/dist-packages (from nbformat>=5.7->nbconvert) (2.21.1)\n",
            "Requirement already satisfied: jsonschema>=2.6 in /usr/local/lib/python3.11/dist-packages (from nbformat>=5.7->nbconvert) (4.23.0)\n",
            "Requirement already satisfied: soupsieve>1.2 in /usr/local/lib/python3.11/dist-packages (from beautifulsoup4->nbconvert) (2.6)\n",
            "Requirement already satisfied: typing-extensions>=4.0.0 in /usr/local/lib/python3.11/dist-packages (from beautifulsoup4->nbconvert) (4.12.2)\n",
            "Requirement already satisfied: attrs>=22.2.0 in /usr/local/lib/python3.11/dist-packages (from jsonschema>=2.6->nbformat>=5.7->nbconvert) (25.1.0)\n",
            "Requirement already satisfied: jsonschema-specifications>=2023.03.6 in /usr/local/lib/python3.11/dist-packages (from jsonschema>=2.6->nbformat>=5.7->nbconvert) (2024.10.1)\n",
            "Requirement already satisfied: referencing>=0.28.4 in /usr/local/lib/python3.11/dist-packages (from jsonschema>=2.6->nbformat>=5.7->nbconvert) (0.36.2)\n",
            "Requirement already satisfied: rpds-py>=0.7.1 in /usr/local/lib/python3.11/dist-packages (from jsonschema>=2.6->nbformat>=5.7->nbconvert) (0.22.3)\n",
            "Requirement already satisfied: entrypoints in /usr/local/lib/python3.11/dist-packages (from jupyter-client>=6.1.12->nbclient>=0.5.0->nbconvert) (0.4)\n",
            "Requirement already satisfied: nest-asyncio>=1.5.4 in /usr/local/lib/python3.11/dist-packages (from jupyter-client>=6.1.12->nbclient>=0.5.0->nbconvert) (1.6.0)\n",
            "Requirement already satisfied: python-dateutil>=2.8.2 in /usr/local/lib/python3.11/dist-packages (from jupyter-client>=6.1.12->nbclient>=0.5.0->nbconvert) (2.8.2)\n",
            "Requirement already satisfied: pyzmq>=23.0 in /usr/local/lib/python3.11/dist-packages (from jupyter-client>=6.1.12->nbclient>=0.5.0->nbconvert) (24.0.1)\n",
            "Requirement already satisfied: tornado>=6.2 in /usr/local/lib/python3.11/dist-packages (from jupyter-client>=6.1.12->nbclient>=0.5.0->nbconvert) (6.4.2)\n",
            "Requirement already satisfied: six>=1.5 in /usr/local/lib/python3.11/dist-packages (from python-dateutil>=2.8.2->jupyter-client>=6.1.12->nbclient>=0.5.0->nbconvert) (1.17.0)\n",
            "Mounted at /content/drive\n",
            "[NbConvertApp] Converting notebook /content/drive/MyDrive/Colab Notebooks/LA3_Astha_Garima.ipynb to html\n",
            "[NbConvertApp] WARNING | Alternative text is missing on 2 image(s).\n",
            "[NbConvertApp] Writing 417086 bytes to /content/drive/MyDrive/Colab Notebooks/LA3_Astha_Garima.html\n"
          ]
        },
        {
          "output_type": "display_data",
          "data": {
            "text/plain": [
              "<IPython.core.display.Javascript object>"
            ],
            "application/javascript": [
              "\n",
              "    async function download(id, filename, size) {\n",
              "      if (!google.colab.kernel.accessAllowed) {\n",
              "        return;\n",
              "      }\n",
              "      const div = document.createElement('div');\n",
              "      const label = document.createElement('label');\n",
              "      label.textContent = `Downloading \"${filename}\": `;\n",
              "      div.appendChild(label);\n",
              "      const progress = document.createElement('progress');\n",
              "      progress.max = size;\n",
              "      div.appendChild(progress);\n",
              "      document.body.appendChild(div);\n",
              "\n",
              "      const buffers = [];\n",
              "      let downloaded = 0;\n",
              "\n",
              "      const channel = await google.colab.kernel.comms.open(id);\n",
              "      // Send a message to notify the kernel that we're ready.\n",
              "      channel.send({})\n",
              "\n",
              "      for await (const message of channel.messages) {\n",
              "        // Send a message to notify the kernel that we're ready.\n",
              "        channel.send({})\n",
              "        if (message.buffers) {\n",
              "          for (const buffer of message.buffers) {\n",
              "            buffers.push(buffer);\n",
              "            downloaded += buffer.byteLength;\n",
              "            progress.value = downloaded;\n",
              "          }\n",
              "        }\n",
              "      }\n",
              "      const blob = new Blob(buffers, {type: 'application/binary'});\n",
              "      const a = document.createElement('a');\n",
              "      a.href = window.URL.createObjectURL(blob);\n",
              "      a.download = filename;\n",
              "      div.appendChild(a);\n",
              "      a.click();\n",
              "      div.remove();\n",
              "    }\n",
              "  "
            ]
          },
          "metadata": {}
        },
        {
          "output_type": "display_data",
          "data": {
            "text/plain": [
              "<IPython.core.display.Javascript object>"
            ],
            "application/javascript": [
              "download(\"download_888a2ad5-51d8-4cca-a285-0135269e00ee\", \"LA3_Astha_Garima.html\", 417770)"
            ]
          },
          "metadata": {}
        }
      ]
    }
  ]
}
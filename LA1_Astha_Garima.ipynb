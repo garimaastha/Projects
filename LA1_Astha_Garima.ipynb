{
  "nbformat": 4,
  "nbformat_minor": 0,
  "metadata": {
    "colab": {
      "provenance": []
    },
    "kernelspec": {
      "name": "python3",
      "display_name": "Python 3"
    },
    "language_info": {
      "name": "python"
    }
  },
  "cells": [
    {
      "cell_type": "markdown",
      "source": [
        "**Assignment Title: Lab Assignment 1 - Text Processing Techniques**\n",
        "\n",
        "**Author name: Garima Astha**\n",
        "\n",
        "**ASU ID: 1234333687 (gastha)**\n",
        "\n",
        "**file creation date: 26 Jan 2025**\n",
        "\n",
        "**Objective: Use basic text processing techniques and Pandas to explore the Yelp Review data and examine the language of positive and negative restaurant reviews.**\n",
        "\n"
      ],
      "metadata": {
        "id": "H1tuXLmYzOYd"
      }
    },
    {
      "cell_type": "markdown",
      "source": [
        "**Import libraries and dataset**"
      ],
      "metadata": {
        "id": "FvIhEFXGuw4d"
      }
    },
    {
      "cell_type": "code",
      "source": [
        "import pandas as pd\n",
        "import numpy as np\n",
        "import spacy\n",
        "from collections import Counter\n",
        "from nltk.corpus import stopwords\n",
        "import string\n",
        "\n",
        "# Load spaCy English model\n",
        "nlp = spacy.load(\"en_core_web_sm\")\n",
        "\n",
        "# Load the dataset\n",
        "file_path = r'/content/sample_data/restaurant_reviews_az.csv'\n",
        "df = pd.read_csv(file_path)\n",
        "\n"
      ],
      "metadata": {
        "id": "nvzBv7BDWJOP"
      },
      "execution_count": null,
      "outputs": []
    },
    {
      "cell_type": "markdown",
      "source": [
        "**Data Exploration - Display summary of dataset**"
      ],
      "metadata": {
        "id": "N3u_e5jku9PI"
      }
    },
    {
      "cell_type": "code",
      "source": [
        "# Display summary of the dataset\n",
        "print(\"Dataset Summary:\\n\", df.info())\n",
        "print(\"\\nFirst 5 rows:\\n\", df.head())\n",
        "\n"
      ],
      "metadata": {
        "colab": {
          "base_uri": "https://localhost:8080/"
        },
        "id": "uj_XDHgMZr7o",
        "outputId": "62cae42a-d22c-487d-ca40-e9cdad8b5561"
      },
      "execution_count": null,
      "outputs": [
        {
          "output_type": "stream",
          "name": "stdout",
          "text": [
            "<class 'pandas.core.frame.DataFrame'>\n",
            "RangeIndex: 48147 entries, 0 to 48146\n",
            "Data columns (total 9 columns):\n",
            " #   Column       Non-Null Count  Dtype \n",
            "---  ------       --------------  ----- \n",
            " 0   review_id    48147 non-null  object\n",
            " 1   user_id      48147 non-null  object\n",
            " 2   business_id  48147 non-null  object\n",
            " 3   stars        48147 non-null  int64 \n",
            " 4   useful       48147 non-null  int64 \n",
            " 5   funny        48147 non-null  int64 \n",
            " 6   cool         48147 non-null  int64 \n",
            " 7   text         48147 non-null  object\n",
            " 8   date         48147 non-null  object\n",
            "dtypes: int64(4), object(5)\n",
            "memory usage: 3.3+ MB\n",
            "Dataset Summary:\n",
            " None\n",
            "\n",
            "First 5 rows:\n",
            "                 review_id                 user_id             business_id  \\\n",
            "0  IVS7do_HBzroiCiymNdxDg  fdFgZQQYQJeEAshH4lxSfQ  sGy67CpJctjeCWClWqonjA   \n",
            "1  QP2pSzSqpJTMWOCuUuyXkQ  JBLWSXBTKFvJYYiM-FnCOQ  3w7NRntdQ9h0KwDsksIt5Q   \n",
            "2  oK0cGYStgDOusZKz9B1qug  2_9fKnXChUjC5xArfF8BLg  OMnPtRGmbY8qH_wIILfYKA   \n",
            "3  E_ABvFCNVLbfOgRg3Pv1KQ  9MExTQ76GSKhxSWnTS901g  V9XlikTxq0My4gE8LULsjw   \n",
            "4  Rd222CrrnXkXukR2iWj69g  LPxuausjvDN88uPr-Q4cQA  CA5BOxKRDPGJgdUQ8OUOpw   \n",
            "\n",
            "   stars  useful  funny  cool  \\\n",
            "0      3       1      1     0   \n",
            "1      5       1      1     1   \n",
            "2      5       1      0     0   \n",
            "3      5       0      0     0   \n",
            "4      4       1      0     0   \n",
            "\n",
            "                                                text                 date  \n",
            "0  OK, the hype about having Hatch chili in your ...  2020-01-27 22:59:06  \n",
            "1  Pandemic pit stop to have an ice cream.... onl...  2020-04-19 05:33:16  \n",
            "2  I was lucky enough to go to the soft opening a...  2020-02-29 19:43:44  \n",
            "3  I've gone to claim Jumpers all over the US and...  2020-03-14 21:47:07  \n",
            "4  If you haven't been  to Maynard's kitchen, it'...  2020-01-17 20:32:57  \n"
          ]
        }
      ]
    },
    {
      "cell_type": "markdown",
      "source": [
        "**Data Exploration - Check for missing values**"
      ],
      "metadata": {
        "id": "DVh1u7ETvFwq"
      }
    },
    {
      "cell_type": "code",
      "source": [
        "# Check for missing values\n",
        "missing_values = df.isnull().sum()\n",
        "print(\"\\nMissing Values:\\n\", missing_values)\n"
      ],
      "metadata": {
        "colab": {
          "base_uri": "https://localhost:8080/"
        },
        "id": "6ShcrLcOZ_M8",
        "outputId": "ac155520-cbe3-4003-af5f-39dd3ce7126c"
      },
      "execution_count": null,
      "outputs": [
        {
          "output_type": "stream",
          "name": "stdout",
          "text": [
            "\n",
            "Missing Values:\n",
            " review_id      0\n",
            "user_id        0\n",
            "business_id    0\n",
            "stars          0\n",
            "useful         0\n",
            "funny          0\n",
            "cool           0\n",
            "text           0\n",
            "date           0\n",
            "dtype: int64\n"
          ]
        }
      ]
    },
    {
      "cell_type": "markdown",
      "source": [
        "**Select the 1 star reviews and 5 star reviews from the dataset. Apply necessary text processing techniques on the selected reviews.**"
      ],
      "metadata": {
        "id": "FBagrErpvZ-q"
      }
    },
    {
      "cell_type": "code",
      "source": [
        "!pip install nltk\n",
        "import nltk\n",
        "nltk.download('stopwords')\n",
        "\n",
        "# Select 1-star and 5-star reviews\n",
        "selected_reviews = df[df['stars'].isin([1, 5])]\n",
        "\n",
        "# Text Preprocessing Function\n",
        "def preprocess_text(text):\n",
        "    doc = nlp(text.lower())  # Convert to lowercase\n",
        "    tokens = [token.lemma_ for token in doc if token.is_alpha and token.text not in stopwords.words('english') and token.text not in string.punctuation]\n",
        "    return tokens\n",
        "\n",
        "selected_reviews['processed_text'] = selected_reviews['text'].apply(preprocess_text)\n",
        "\n",
        "# Function to extract top N frequent words of a specific POS\n",
        "def get_top_n_words(reviews, pos_tag, n=20):\n",
        "    words = []\n",
        "    for text in reviews:\n",
        "        doc = nlp(\" \".join(text))\n",
        "        words.extend([token.text for token in doc if token.pos_ == pos_tag])\n",
        "    return Counter(words).most_common(n)\n",
        "\n",
        "# Separate 1-star and 5-star reviews\n",
        "one_star_reviews = selected_reviews[selected_reviews['stars'] == 1]['processed_text']\n",
        "five_star_reviews = selected_reviews[selected_reviews['stars'] == 5]['processed_text']\n"
      ],
      "metadata": {
        "colab": {
          "base_uri": "https://localhost:8080/"
        },
        "id": "cNnRn6p0aA3u",
        "outputId": "d2e41aa1-1e7d-4944-abb1-edfa2d331f87"
      },
      "execution_count": null,
      "outputs": [
        {
          "output_type": "stream",
          "name": "stdout",
          "text": [
            "Requirement already satisfied: nltk in /usr/local/lib/python3.11/dist-packages (3.9.1)\n",
            "Requirement already satisfied: click in /usr/local/lib/python3.11/dist-packages (from nltk) (8.1.8)\n",
            "Requirement already satisfied: joblib in /usr/local/lib/python3.11/dist-packages (from nltk) (1.4.2)\n",
            "Requirement already satisfied: regex>=2021.8.3 in /usr/local/lib/python3.11/dist-packages (from nltk) (2024.11.6)\n",
            "Requirement already satisfied: tqdm in /usr/local/lib/python3.11/dist-packages (from nltk) (4.67.1)\n"
          ]
        },
        {
          "output_type": "stream",
          "name": "stderr",
          "text": [
            "[nltk_data] Downloading package stopwords to /root/nltk_data...\n",
            "[nltk_data]   Package stopwords is already up-to-date!\n",
            "<ipython-input-12-2cf303d49ba3>:14: SettingWithCopyWarning: \n",
            "A value is trying to be set on a copy of a slice from a DataFrame.\n",
            "Try using .loc[row_indexer,col_indexer] = value instead\n",
            "\n",
            "See the caveats in the documentation: https://pandas.pydata.org/pandas-docs/stable/user_guide/indexing.html#returning-a-view-versus-a-copy\n",
            "  selected_reviews['processed_text'] = selected_reviews['text'].apply(preprocess_text)\n"
          ]
        }
      ]
    },
    {
      "cell_type": "markdown",
      "source": [
        "**Display the top 20 frequently used nouns in 1 star reviews and 5 star reviews, respectively.**\n",
        "\n",
        "**Display the top 20 frequently used adjectives in  1 star reviews and 5 star, respectively.**\n",
        "\n",
        "**Display the top 20 frequently used verbs in 1 star reviews and 5 star reviews, respectively.**"
      ],
      "metadata": {
        "id": "YlJbtJ3Uvvmh"
      }
    },
    {
      "cell_type": "code",
      "source": [
        "# Find top 20 frequent nouns, adjectives, and verbs\n",
        "print(\"\\nTop 20 nouns in 1-star reviews:\", get_top_n_words(one_star_reviews, \"NOUN\"))\n",
        "print(\"\\nTop 20 nouns in 5-star reviews:\", get_top_n_words(five_star_reviews, \"NOUN\"))\n",
        "\n",
        "print(\"\\nTop 20 adjectives in 1-star reviews:\", get_top_n_words(one_star_reviews, \"ADJ\"))\n",
        "print(\"\\nTop 20 adjectives in 5-star reviews:\", get_top_n_words(five_star_reviews, \"ADJ\"))\n",
        "\n",
        "print(\"\\nTop 20 verbs in 1-star reviews:\", get_top_n_words(one_star_reviews, \"VERB\"))\n",
        "print(\"\\nTop 20 verbs in 5-star reviews:\", get_top_n_words(five_star_reviews, \"VERB\"))"
      ],
      "metadata": {
        "colab": {
          "base_uri": "https://localhost:8080/"
        },
        "id": "3dYlWwJ5g6aH",
        "outputId": "08bdaf92-f9b4-4438-c1ff-f76d90ccb8f6"
      },
      "execution_count": null,
      "outputs": [
        {
          "output_type": "stream",
          "name": "stdout",
          "text": [
            "\n",
            "Top 20 nouns in 1-star reviews: [('order', 8096), ('food', 6441), ('time', 4360), ('place', 3403), ('service', 3066), ('minute', 2406), ('restaurant', 2250), ('customer', 2216), ('table', 1705), ('manager', 1666), ('people', 1443), ('hour', 1258), ('experience', 1182), ('call', 1170), ('pizza', 1164), ('location', 1163), ('server', 1080), ('way', 1044), ('drink', 1039), ('meal', 1028)]\n",
            "\n",
            "Top 20 nouns in 5-star reviews: [('food', 15137), ('place', 10061), ('order', 7535), ('service', 7365), ('time', 7099), ('restaurant', 4789), ('staff', 4000), ('tucson', 3980), ('love', 3920), ('pizza', 2797), ('menu', 2731), ('flavor', 2588), ('meal', 2394), ('experience', 2231), ('price', 2106), ('sauce', 1955), ('side', 1936), ('spot', 1925), ('drink', 1924), ('day', 1919)]\n",
            "\n",
            "Top 20 adjectives in 1-star reviews: [('bad', 2390), ('good', 2077), ('last', 925), ('first', 893), ('terrible', 798), ('horrible', 787), ('cold', 731), ('great', 720), ('close', 621), ('long', 619), ('open', 596), ('rude', 595), ('new', 595), ('wrong', 592), ('old', 572), ('small', 564), ('many', 556), ('sure', 505), ('little', 479), ('busy', 466)]\n",
            "\n",
            "Top 20 adjectives in 5-star reviews: [('good', 14009), ('great', 12123), ('amazing', 5396), ('friendly', 4334), ('delicious', 3503), ('fresh', 3341), ('nice', 3186), ('favorite', 2626), ('excellent', 2450), ('first', 2095), ('little', 1914), ('perfect', 1861), ('hot', 1758), ('new', 1677), ('wonderful', 1576), ('happy', 1492), ('clean', 1470), ('many', 1427), ('sweet', 1400), ('next', 1355)]\n",
            "\n",
            "Top 20 verbs in 1-star reviews: [('go', 5834), ('get', 5665), ('say', 3603), ('come', 3413), ('take', 2547), ('ask', 2442), ('make', 2351), ('wait', 2274), ('give', 2263), ('tell', 1952), ('eat', 1797), ('want', 1615), ('try', 1279), ('know', 1265), ('see', 1162), ('leave', 1087), ('look', 948), ('think', 930), ('sit', 873), ('bring', 797)]\n",
            "\n",
            "Top 20 verbs in 5-star reviews: [('go', 8167), ('get', 7776), ('come', 6031), ('make', 5437), ('try', 5323), ('eat', 3447), ('recommend', 3300), ('take', 3244), ('wait', 2187), ('say', 2125), ('enjoy', 1992), ('want', 1902), ('give', 1864), ('find', 1863), ('look', 1740), ('love', 1657), ('see', 1447), ('know', 1439), ('feel', 1387), ('salad', 1308)]\n"
          ]
        }
      ]
    },
    {
      "cell_type": "markdown",
      "source": [
        "**Display the top 20 frequently used named entities from the selected reviews.**"
      ],
      "metadata": {
        "id": "qhPH4LBhwV8G"
      }
    },
    {
      "cell_type": "code",
      "source": [
        "import pandas as pd\n",
        "import spacy\n",
        "from collections import Counter\n",
        "from spacy.lang.en import English\n",
        "\n",
        "# Load the dataset\n",
        "#file_path = \"your_file.csv\"  # Update with your actual file path\n",
        "#df = pd.read_csv(file_path)\n",
        "\n",
        "# Load spaCy's English NLP model\n",
        "nlp = spacy.load(\"en_core_web_sm\")\n",
        "\n",
        "# Extract review text\n",
        "documents = df['text'].dropna().tolist()\n",
        "\n",
        "# Process text and extract named entities\n",
        "entities = []\n",
        "for doc in nlp.pipe(documents, disable=[\"parser\", \"tagger\"]):\n",
        "    entities.extend([ent.text for ent in doc.ents])\n",
        "\n",
        "# Count frequency of named entities\n",
        "entity_counts = Counter(entities)\n",
        "\n",
        "# Get the top 20 most common named entities\n",
        "top_20_entities = entity_counts.most_common(20)\n",
        "\n",
        "# Print the results\n",
        "print(\"Top 20 Named Entities:\")\n",
        "for entity, count in top_20_entities:\n",
        "    print(f\"{entity}: {count}\")"
      ],
      "metadata": {
        "colab": {
          "base_uri": "https://localhost:8080/"
        },
        "id": "emQYojsEwXrc",
        "outputId": "8c1ad6bb-d2db-4a83-f466-ea344766fc85"
      },
      "execution_count": null,
      "outputs": [
        {
          "output_type": "stream",
          "name": "stderr",
          "text": [
            "/usr/local/lib/python3.11/dist-packages/spacy/pipeline/lemmatizer.py:211: UserWarning: [W108] The rule-based lemmatizer did not find POS annotation for one or more tokens. Check that your pipeline includes components that assign token.pos, typically 'tagger'+'attribute_ruler' or 'morphologizer'.\n",
            "  warnings.warn(Warnings.W108)\n"
          ]
        },
        {
          "output_type": "stream",
          "name": "stdout",
          "text": [
            "Top 20 Named Entities:\n",
            "Tucson: 7045\n",
            "first: 4365\n",
            "one: 3743\n",
            "two: 3662\n",
            "2: 2701\n",
            "Mexican: 2228\n",
            "3: 2046\n",
            "5: 1860\n",
            "today: 1627\n",
            "4: 1535\n",
            "First: 1344\n",
            "One: 1283\n",
            "three: 1172\n",
            "second: 1066\n",
            "1: 1062\n",
            "half: 1049\n",
            "Italian: 886\n",
            "Chinese: 837\n",
            "tonight: 790\n",
            "10: 773\n"
          ]
        }
      ]
    },
    {
      "cell_type": "markdown",
      "source": [
        "**Conclusion**\n",
        "\n",
        "**The top 20 frequently used nouns, adjectives and verbs help to understand the reviews better.**\n",
        "\n",
        "**In 1-star reviews, common nouns are \"order\", \"time\", \"minute\", \"wait\", \"manager\" with adjectives such as \"bad\", \"cold\", \"terrible\", \"wrong\" signify the disappointment with the restaurant. The common verbs are \"ask\", \"tell\", \"leave\", \"think\", \"sit\" which confirm the dissatisfaction of customers.**\n",
        "\n",
        "**However, in 5-star reviews, common nouns are \"food\", \"service\", \"staff\", \"flavour\" with adjectives like such as \"amazing\", \"delicious\", \"friendly\" suggest that the customer is happy with the restaurant. The common verbs like \"recommend\", \"enjoy\", \"love\", \"feel\" reinforce that customers enjoyed the experience.**\n",
        "\n",
        "**After analysing the reviews, we can say that the key to a good restaurant experience is food, service, time and experience.**\n",
        "\n",
        "**The analysis of the top 20 names entities signify that most restaurants are in \"Tucson\" and popular cuisines are \"Mexican\", \"Italian\" and \"Chinese\".**\n",
        "\n",
        "\n"
      ],
      "metadata": {
        "id": "HbfZ2-isM-j8"
      }
    }
  ]
}
{
  "nbformat": 4,
  "nbformat_minor": 0,
  "metadata": {
    "colab": {
      "provenance": []
    },
    "kernelspec": {
      "name": "python3",
      "display_name": "Python 3"
    },
    "language_info": {
      "name": "python"
    }
  },
  "cells": [
    {
      "cell_type": "markdown",
      "source": [
        "**There are 4 stocks with normally distributed percentage returns.**\n",
        "**The mean percentage returns by stock: 0.080, 0.095, 0.115, 0.145.**\n",
        "**The return standard deviation by stock:  0.060, 0.080, 0.140, 0.195.**\n",
        "\n",
        "\n",
        "**In any given year, the correlation among each pair of stocks follows:**\n",
        "  - rho12 = 0.55, rho13 = 0.65, rho14 = 0.45\n",
        "  - rho23 = 0.50, rho24 = 0.70\n",
        "  - rho34 = 0.55\n",
        "\n",
        "**Generate a sample of stock returns and compute the correlation coefficients for each pair of stocks in your sample.\n",
        "**Check if they are close to the above correlations. The main task for the problem is to create the code that will generate the correlated random returns.**"
      ],
      "metadata": {
        "id": "kMVkHbYgs9dL"
      }
    },
    {
      "cell_type": "code",
      "source": [
        "import numpy as np\n",
        "import scipy.stats as stats\n",
        "\n",
        "def generate_correlated_returns(means, std_devs, correlation_matrix, num_samples=10000):\n",
        "    np.random.seed(42)  # For reproducibility\n",
        "\n",
        "    # Compute covariance matrix\n",
        "    covariance_matrix = np.outer(std_devs, std_devs) * correlation_matrix\n",
        "\n",
        "    # Cholesky decomposition\n",
        "    L = np.linalg.cholesky(covariance_matrix)\n",
        "\n",
        "    # Generate independent standard normal variables\n",
        "    uncorrelated = np.random.randn(num_samples, len(means))\n",
        "\n",
        "    # Generate correlated normal variables\n",
        "    correlated = uncorrelated @ L.T\n",
        "\n",
        "    # Shift by means\n",
        "    returns = correlated + means\n",
        "\n",
        "    return returns\n",
        "\n",
        "def compute_correlation_matrix(data):\n",
        "    return np.corrcoef(data, rowvar=False)\n",
        "\n",
        "# Given parameters\n",
        "means = np.array([0.080, 0.095, 0.115, 0.145])\n",
        "std_devs = np.array([0.060, 0.080, 0.140, 0.195])\n",
        "\n",
        "correlation_matrix = np.array([\n",
        "    [1.00, 0.55, 0.65, 0.45],\n",
        "    [0.55, 1.00, 0.50, 0.70],\n",
        "    [0.65, 0.50, 1.00, 0.55],\n",
        "    [0.45, 0.70, 0.55, 1.00]\n",
        "])\n",
        "\n",
        "# Generate returns\n",
        "sample_returns = generate_correlated_returns(means, std_devs, correlation_matrix)\n",
        "\n",
        "# Compute and display correlation matrix\n",
        "sample_correlation_matrix = compute_correlation_matrix(sample_returns)\n",
        "print(\"Sample Correlation Matrix:\")\n",
        "print(sample_correlation_matrix)\n"
      ],
      "metadata": {
        "colab": {
          "base_uri": "https://localhost:8080/"
        },
        "id": "6Cs-Qq8ppAC9",
        "outputId": "ea478919-562d-49a6-d314-4ce4073135f4"
      },
      "execution_count": null,
      "outputs": [
        {
          "output_type": "stream",
          "name": "stdout",
          "text": [
            "Sample Correlation Matrix:\n",
            "[[1.         0.55643572 0.64884769 0.44224308]\n",
            " [0.55643572 1.         0.50149561 0.69995896]\n",
            " [0.64884769 0.50149561 1.         0.54995435]\n",
            " [0.44224308 0.69995896 0.54995435 1.        ]]\n"
          ]
        }
      ]
    }
  ]
}
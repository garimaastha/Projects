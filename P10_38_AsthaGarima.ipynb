{
  "nbformat": 4,
  "nbformat_minor": 0,
  "metadata": {
    "colab": {
      "provenance": []
    },
    "kernelspec": {
      "name": "python3",
      "display_name": "Python 3"
    },
    "language_info": {
      "name": "python"
    }
  },
  "cells": [
    {
      "cell_type": "markdown",
      "source": [
        "**10.38. It is surprising (but true) that if 23 people are in the same room, there is about a 50% chance that at least two people will have the same birthday. Suppose you want to estimate the probability that if X people are in the same room, at least two of them will have the same birthday.**\n",
        "\n",
        "**Ignoring the possibility of a leap year, each person has a 1/365 chance of having a given birthday. For this problem, create a model and run a simulation to estimate the probability that at least two of the X people have the same birthday. What is the (estimated) probability that this occurs?**\n",
        "\n",
        "**Write your probability answer to two decimal places with a leading 0 (e.g., write a probability of 90.02% as 0.90). Answer the following questions using at least 1,000,000 iterations in your Python simulation.**\n",
        "\n"
      ],
      "metadata": {
        "id": "QBmL9ydJGYq0"
      }
    },
    {
      "cell_type": "markdown",
      "source": [
        "**a. Among a group of X=50 different people, what is the probability that at least two people have the same birthday? The probability is**\n",
        " .\n"
      ],
      "metadata": {
        "id": "vkI9fjg9GjN_"
      }
    },
    {
      "cell_type": "code",
      "source": [
        "import numpy as np\n",
        "\n",
        "# Parameters for the simulation\n",
        "num_people = 50\n",
        "num_simulations = 1_000_000\n",
        "\n",
        "# Function to check if at least two people share the same birthday\n",
        "def has_duplicate_birthday(num_people):\n",
        "    birthdays = np.random.randint(1, 366, num_people)  # Generate random birthdays (1-365)\n",
        "    return len(birthdays) > len(set(birthdays))  # Check for duplicates\n",
        "\n",
        "# Run the simulation\n",
        "matches = sum(has_duplicate_birthday(num_people) for _ in range(num_simulations))\n",
        "\n",
        "# Calculate probability\n",
        "probability = round(matches / num_simulations, 2)\n",
        "\n",
        "# Display result\n",
        "print(f\"Estimated probability that at least two people share a birthday in a group of {num_people}: {probability}\")\n"
      ],
      "metadata": {
        "colab": {
          "base_uri": "https://localhost:8080/"
        },
        "id": "JkjJ51HAGLBW",
        "outputId": "36ebe907-8408-4083-ea36-a4468d1b4a64"
      },
      "execution_count": null,
      "outputs": [
        {
          "output_type": "stream",
          "name": "stdout",
          "text": [
            "Estimated probability that at least two people share a birthday in a group of 50: 0.97\n"
          ]
        }
      ]
    },
    {
      "cell_type": "markdown",
      "source": [
        "**b. Among a group of X=20 different people, what is the probability that at least two people have the same birthday? The probability is**"
      ],
      "metadata": {
        "id": "7CS-zlnHGoyO"
      }
    },
    {
      "cell_type": "code",
      "source": [
        "import numpy as np\n",
        "\n",
        "# Parameters for the simulation\n",
        "num_people = 20\n",
        "num_simulations = 1_000_000\n",
        "\n",
        "# Function to check if at least two people share the same birthday\n",
        "def has_duplicate_birthday(num_people):\n",
        "    birthdays = np.random.randint(1, 366, num_people)  # Generate random birthdays (1-365)\n",
        "    return len(birthdays) > len(set(birthdays))  # Check for duplicates\n",
        "\n",
        "# Run the simulation\n",
        "matches = sum(has_duplicate_birthday(num_people) for _ in range(num_simulations))\n",
        "\n",
        "# Calculate probability\n",
        "probability = round(matches / num_simulations, 2)\n",
        "\n",
        "# Display result\n",
        "print(f\"Estimated probability that at least two people share a birthday in a group of {num_people}: {probability}\")\n"
      ],
      "metadata": {
        "colab": {
          "base_uri": "https://localhost:8080/"
        },
        "id": "A0-IRBCTGt-y",
        "outputId": "5028a61e-9d41-400a-afe6-5d2dd4a47594"
      },
      "execution_count": null,
      "outputs": [
        {
          "output_type": "stream",
          "name": "stdout",
          "text": [
            "Estimated probability that at least two people share a birthday in a group of 20: 0.41\n"
          ]
        }
      ]
    }
  ]
}